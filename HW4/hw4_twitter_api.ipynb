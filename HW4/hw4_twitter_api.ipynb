{
 "cells": [
  {
   "cell_type": "markdown",
   "metadata": {},
   "source": [
    "# Total points 8"
   ]
  },
  {
   "cell_type": "markdown",
   "metadata": {},
   "source": [
    "# In  the homework\n",
    "- We'll collect climate change related tweet from twitter using REST API\n",
    "- Use tweets to populate Pandas DataFrames\n",
    "- Perform some elementary pandas operation to check data sanity\n",
    "\n",
    "\n",
    "**Please read**\n",
    "\n",
    "- https://developer.twitter.com/en/developer-terms/more-on-restricted-use-cases\n"
   ]
  },
  {
   "cell_type": "markdown",
   "metadata": {},
   "source": [
    "Before proceeding with homework.\n",
    "\n",
    "<font size=\"6\" color='red'> Create new app at https://apps.twitter.com/app/new  (You may have to create twitter account before this) </font>\n",
    "\n",
    "\n",
    "\n"
   ]
  },
  {
   "cell_type": "markdown",
   "metadata": {},
   "source": [
    "[twitter api reference index](https://developer.twitter.com/en/docs/api-reference-index)\n",
    "\n",
    "\n",
    "# POST oauth2/token\n",
    "Allows a registered application to obtain an OAuth 2 Bearer Token, which can be used to make API requests on an application's own behalf, without a user context.\n",
    "https://developer.twitter.com/en/docs/basics/authentication/api-reference/token\n"
   ]
  },
  {
   "cell_type": "markdown",
   "metadata": {},
   "source": [
    "Once you have create app, click on app details and keys and token tab\n",
    "\n",
    "<font size=\"6\" color='red'> write API key value for client_key and API secret key value for client_secret in the next cell</font>"
   ]
  },
  {
   "cell_type": "code",
   "execution_count": 1,
   "metadata": {},
   "outputs": [],
   "source": [
    "client_key = 'WafAnFjAtTg51Vb8I94pWFRb6'\n",
    "client_secret = 'T8VibzLMgMuMDvNkScLBSUSpSV6NhwlJh1GrLxy8jzaer8sUb7'"
   ]
  },
  {
   "cell_type": "code",
   "execution_count": 2,
   "metadata": {},
   "outputs": [],
   "source": [
    "import requests\n",
    "import base64\n",
    "\n",
    "key_secret = '{}:{}'.format(client_key, client_secret).encode('ascii')\n",
    "b64_encoded_key = base64.b64encode(key_secret)\n",
    "b64_encoded_key = b64_encoded_key.decode('ascii')"
   ]
  },
  {
   "cell_type": "code",
   "execution_count": 3,
   "metadata": {},
   "outputs": [],
   "source": [
    "base_url = 'https://api.twitter.com/'\n",
    "auth_endpoint = base_url+'oauth2/token'\n",
    "\n",
    "auth_headers = { 'Authorization': 'Basic {}'.format(b64_encoded_key),\n",
    "                'Content-Type': 'application/x-www-form-urlencoded;charset=UTF-8'}\n",
    "\n",
    "auth_data = { 'grant_type': 'client_credentials'}\n",
    "\n"
   ]
  },
  {
   "cell_type": "markdown",
   "metadata": {},
   "source": [
    "Let's post to authentication endpoint and get the token to be used in subsequent REST API call"
   ]
  },
  {
   "cell_type": "code",
   "execution_count": 4,
   "metadata": {},
   "outputs": [
    {
     "data": {
      "text/plain": [
       "200"
      ]
     },
     "execution_count": 4,
     "metadata": {},
     "output_type": "execute_result"
    }
   ],
   "source": [
    "response = requests.post(auth_endpoint, headers=auth_headers, data=auth_data)\n",
    "response.status_code"
   ]
  },
  {
   "cell_type": "code",
   "execution_count": 5,
   "metadata": {},
   "outputs": [
    {
     "data": {
      "text/plain": [
       "{'token_type': 'bearer',\n",
       " 'access_token': 'AAAAAAAAAAAAAAAAAAAAAI2%2BewEAAAAAcjftd9OTNEE68Y8DBga5KsKHzzs%3DXcM6HqhrHIm47ay7usG4DXgNU3TsT4tRYUOakT2mZDgAyUWAoL'}"
      ]
     },
     "execution_count": 5,
     "metadata": {},
     "output_type": "execute_result"
    }
   ],
   "source": [
    "json_data =  response.json()\n",
    "json_data"
   ]
  },
  {
   "cell_type": "code",
   "execution_count": 6,
   "metadata": {},
   "outputs": [],
   "source": [
    "access_token = json_data['access_token']"
   ]
  },
  {
   "cell_type": "markdown",
   "metadata": {},
   "source": [
    "# Let's do some search on climate change\n",
    "This is how we got search endpoint\n",
    "\n",
    "https://developer.twitter.com/en/docs/tweets/search/api-reference/get-search-tweets"
   ]
  },
  {
   "cell_type": "code",
   "execution_count": 7,
   "metadata": {},
   "outputs": [],
   "source": [
    "max_tweets=100\n",
    "tw_limit=100# we can get only 100 tweet per call with standard search api\n",
    "tweets = []\n",
    "users =[]"
   ]
  },
  {
   "cell_type": "code",
   "execution_count": 8,
   "metadata": {},
   "outputs": [],
   "source": [
    "search_headers = {'Authorization': 'Bearer {}'.format(access_token)    \n",
    "}\n",
    "\n",
    "parameters = { 'query': 'climate change',\n",
    "                'max_results': 100,\n",
    "                'expansions' :'author_id,referenced_tweets.id',\n",
    "                'tweet.fields' : 'created_at,entities,source,in_reply_to_user_id,geo,lang,public_metrics,reply_settings,referenced_tweets,conversation_id',\n",
    "                'user.fields': 'created_at,description,entities,id,location,name,pinned_tweet_id,profile_image_url,protected,public_metrics,url,username,verified,withheld'}\n",
    "\n",
    "search_url = base_url+'2/tweets/search/recent'\n",
    "\n",
    "response = requests.get(search_url, headers=search_headers, params=parameters)"
   ]
  },
  {
   "cell_type": "code",
   "execution_count": 9,
   "metadata": {
    "scrolled": true
   },
   "outputs": [],
   "source": [
    "climate_tweets = response.json()\n"
   ]
  },
  {
   "cell_type": "code",
   "execution_count": 10,
   "metadata": {},
   "outputs": [
    {
     "data": {
      "text/plain": [
       "100"
      ]
     },
     "execution_count": 10,
     "metadata": {},
     "output_type": "execute_result"
    }
   ],
   "source": [
    "len(climate_tweets['data'])"
   ]
  },
  {
   "cell_type": "code",
   "execution_count": 11,
   "metadata": {},
   "outputs": [],
   "source": [
    "tweets +=climate_tweets['data']\n"
   ]
  },
  {
   "cell_type": "code",
   "execution_count": 12,
   "metadata": {},
   "outputs": [],
   "source": [
    "\n",
    " ids = [tw['id'] for tw in climate_tweets['data']]\n",
    "    "
   ]
  },
  {
   "cell_type": "code",
   "execution_count": 13,
   "metadata": {},
   "outputs": [],
   "source": [
    "min_id = min(ids)"
   ]
  },
  {
   "cell_type": "code",
   "execution_count": 14,
   "metadata": {},
   "outputs": [],
   "source": [
    "tw_ids = []\n",
    "tw_ids+=ids"
   ]
  },
  {
   "cell_type": "markdown",
   "metadata": {},
   "source": [
    "As per twitter api documentation we can use\n",
    "\n",
    "until_id:Returns results with an ID less than (that is, older than) or equal to the specified ID.\n",
    "\n",
    "to get older tweets"
   ]
  },
  {
   "cell_type": "markdown",
   "metadata": {},
   "source": [
    "# Q1 (.5 points) Modify only *parameters* dictionary in the following code so that subsequent call to climate change search returns older tweets with id less than minimum of previous tweets ids."
   ]
  },
  {
   "cell_type": "code",
   "execution_count": 24,
   "metadata": {},
   "outputs": [],
   "source": [
    " parameters = { 'query': 'climate change',\n",
    "                'max_results': tw_limit,\n",
    "                'expansions' :'author_id,referenced_tweets.id',\n",
    "                'tweet.fields' : 'created_at,entities,source,in_reply_to_user_id,geo,lang,public_metrics,reply_settings,referenced_tweets,conversation_id',\n",
    "                'user.fields': 'created_at,description,entities,id,location,name,pinned_tweet_id,profile_image_url,protected,public_metrics,url,username,verified,withheld',\n",
    "                'until_id': min_id\n",
    "              }\n",
    "\n",
    "for  i in range(max_tweets//tw_limit -1):\n",
    "    print(\"searching tweets with id  < {}\".format(min_id))\n",
    "    search_url = base_url+'2/tweets/search/recent'\n",
    "    response = requests.get(search_url, headers=search_headers, params=parameters)\n",
    "    climate_tweets = response.json()\n",
    "    ids = [tw['id'] for tw in climate_tweets['statuses']]\n",
    "    tw_ids+=ids\n",
    "    print(i, len(climate_tweets['data']))\n",
    "    min_id = min(ids)\n",
    "    tweets +=climate_tweets['data']\n",
    "    users.extend(climate_tweets['includes']['users'])\n",
    "    if 'next_token' in response.json()['meta']:\n",
    "\t\t\t\t\tparameters['next_token'] = response.json()['meta']['next_token']"
   ]
  },
  {
   "cell_type": "code",
   "execution_count": 25,
   "metadata": {},
   "outputs": [
    {
     "name": "stdout",
     "output_type": "stream",
     "text": [
      "Total tweets retrieved= 100\n"
     ]
    }
   ],
   "source": [
    "print('Total tweets retrieved= {}'.format(len(tweets)))"
   ]
  },
  {
   "cell_type": "markdown",
   "metadata": {},
   "source": [
    "# Let's print some tweets"
   ]
  },
  {
   "cell_type": "code",
   "execution_count": 26,
   "metadata": {},
   "outputs": [],
   "source": [
    "import pprint #pretty-print” arbitrary Python data structures. Tweets object has hierarchical struture\n",
    "max_tweet_to_print=4"
   ]
  },
  {
   "cell_type": "code",
   "execution_count": 27,
   "metadata": {},
   "outputs": [
    {
     "name": "stdout",
     "output_type": "stream",
     "text": [
      "[{'author_id': '1545046309551235073',\n",
      "  'conversation_id': '1548763199838846980',\n",
      "  'created_at': '2022-07-17T20:20:47.000Z',\n",
      "  'entities': {'mentions': [{'end': 16,\n",
      "                             'id': '31047836',\n",
      "                             'start': 0,\n",
      "                             'username': 'michaeljknowles'}]},\n",
      "  'id': '1548764675122216961',\n",
      "  'in_reply_to_user_id': '31047836',\n",
      "  'lang': 'en',\n",
      "  'public_metrics': {'like_count': 0,\n",
      "                     'quote_count': 0,\n",
      "                     'reply_count': 0,\n",
      "                     'retweet_count': 0},\n",
      "  'referenced_tweets': [{'id': '1548763199838846980', 'type': 'replied_to'}],\n",
      "  'reply_settings': 'everyone',\n",
      "  'source': 'Twitter for iPhone',\n",
      "  'text': '@michaeljknowles Let’s help the move the climate change goal post. '\n",
      "          'Say - all the way off the cliff?'},\n",
      " {'author_id': '2757343023',\n",
      "  'conversation_id': '1548764675034185728',\n",
      "  'created_at': '2022-07-17T20:20:47.000Z',\n",
      "  'entities': {'mentions': [{'end': 14,\n",
      "                             'id': '189658688',\n",
      "                             'start': 3,\n",
      "                             'username': 'Botanygeek'}]},\n",
      "  'id': '1548764675034185728',\n",
      "  'lang': 'en',\n",
      "  'public_metrics': {'like_count': 0,\n",
      "                     'quote_count': 0,\n",
      "                     'reply_count': 0,\n",
      "                     'retweet_count': 1941},\n",
      "  'referenced_tweets': [{'id': '1548571208219652096', 'type': 'retweeted'}],\n",
      "  'reply_settings': 'everyone',\n",
      "  'source': 'Twitter for Android',\n",
      "  'text': 'RT @Botanygeek: Honestly, wouldn’t it be better if politicians in '\n",
      "          'this race acted like climate change was the greatest threat to face '\n",
      "          'human…'},\n",
      " {'author_id': '2813006618',\n",
      "  'conversation_id': '1548764674941927426',\n",
      "  'created_at': '2022-07-17T20:20:47.000Z',\n",
      "  'entities': {'mentions': [{'end': 11,\n",
      "                             'id': '3245069205',\n",
      "                             'start': 3,\n",
      "                             'username': 'PGDynes'}]},\n",
      "  'id': '1548764674941927426',\n",
      "  'lang': 'en',\n",
      "  'public_metrics': {'like_count': 0,\n",
      "                     'quote_count': 0,\n",
      "                     'reply_count': 0,\n",
      "                     'retweet_count': 46},\n",
      "  'referenced_tweets': [{'id': '1548692433155809281', 'type': 'retweeted'}],\n",
      "  'reply_settings': 'everyone',\n",
      "  'source': 'Twitter for iPhone',\n",
      "  'text': 'RT @PGDynes: A chart for the “1976 was just as hot” headbangers. '\n",
      "          'Stop burying your head in the hot sand. The climate is experiencing '\n",
      "          'rapid…'},\n",
      " {'author_id': '745379722587217920',\n",
      "  'conversation_id': '1548764673029259265',\n",
      "  'created_at': '2022-07-17T20:20:47.000Z',\n",
      "  'entities': {'mentions': [{'end': 14,\n",
      "                             'id': '189658688',\n",
      "                             'start': 3,\n",
      "                             'username': 'Botanygeek'}]},\n",
      "  'id': '1548764673029259265',\n",
      "  'lang': 'en',\n",
      "  'public_metrics': {'like_count': 0,\n",
      "                     'quote_count': 0,\n",
      "                     'reply_count': 0,\n",
      "                     'retweet_count': 1941},\n",
      "  'referenced_tweets': [{'id': '1548571208219652096', 'type': 'retweeted'}],\n",
      "  'reply_settings': 'everyone',\n",
      "  'source': 'Twitter for Android',\n",
      "  'text': 'RT @Botanygeek: Honestly, wouldn’t it be better if politicians in '\n",
      "          'this race acted like climate change was the greatest threat to face '\n",
      "          'human…'}]\n"
     ]
    }
   ],
   "source": [
    "pprint.pprint(tweets[0:max_tweet_to_print])"
   ]
  },
  {
   "cell_type": "markdown",
   "metadata": {},
   "source": [
    "Link to understand [tweet-object](https://developer.twitter.com/en/docs/tweets/data-dictionary/overview/tweet-object)\n",
    "\n",
    "Let'see some tweets"
   ]
  },
  {
   "cell_type": "code",
   "execution_count": 28,
   "metadata": {},
   "outputs": [
    {
     "name": "stdout",
     "output_type": "stream",
     "text": [
      "@michaeljknowles Let’s help the move the climate change goal post. Say - all the way off the cliff?\n",
      "\n",
      "RT @Botanygeek: Honestly, wouldn’t it be better if politicians in this race acted like climate change was the greatest threat to face human…\n",
      "\n",
      "RT @PGDynes: A chart for the “1976 was just as hot” headbangers. Stop burying your head in the hot sand. The climate is experiencing rapid…\n",
      "\n",
      "RT @Botanygeek: Honestly, wouldn’t it be better if politicians in this race acted like climate change was the greatest threat to face human…\n",
      "\n"
     ]
    }
   ],
   "source": [
    "for status in tweets[0:max_tweet_to_print]:\n",
    "    print(status['text'] + '\\n')"
   ]
  },
  {
   "cell_type": "markdown",
   "metadata": {},
   "source": [
    "# Pandas DataFrame for storing tweet feed\n",
    "\n",
    "Create following date frame for storing tweets\n",
    "\n",
    "- **climate_feed_df** DataFrame for storing tweet\n",
    "- **user_df** DataFrame for storing user detail\n",
    "- **retweeted_status_df** for storing original tweet"
   ]
  },
  {
   "cell_type": "markdown",
   "metadata": {},
   "source": [
    "# Printing keys in tweets"
   ]
  },
  {
   "cell_type": "code",
   "execution_count": 29,
   "metadata": {},
   "outputs": [
    {
     "name": "stdout",
     "output_type": "stream",
     "text": [
      "dict_keys(['conversation_id', 'referenced_tweets', 'id', 'reply_settings', 'entities', 'public_metrics', 'source', 'created_at', 'lang', 'author_id', 'text'])\n",
      "11\n"
     ]
    }
   ],
   "source": [
    "print(tweets[1].keys())\n",
    "print(len(tweets[1].keys()))\n"
   ]
  },
  {
   "cell_type": "code",
   "execution_count": 31,
   "metadata": {},
   "outputs": [],
   "source": [
    "import pandas as pd\n",
    "import copy"
   ]
  },
  {
   "cell_type": "markdown",
   "metadata": {},
   "source": [
    "# Generators for building DataFrames"
   ]
  },
  {
   "cell_type": "markdown",
   "metadata": {},
   "source": [
    "# Q2 (2 point) Complete following   python generator *tweet_generator*. Generator yield modified tweet .\n",
    "For each tweet in tweets\n",
    "- Replace **author_id** attribute with **user_id**.\n",
    "- Replace **referenced_tweets** attribute with **referenced_tweets_ids** and value(s) with **tweet['referenced_tweets']['id']** value(s).\n",
    "- Keep other attributes in the tweet as such."
   ]
  },
  {
   "cell_type": "code",
   "execution_count": 38,
   "metadata": {},
   "outputs": [],
   "source": [
    "def tweet_generator(tweets):\n",
    "    for tweet in tweets:\n",
    "        try:\n",
    "            modified_tweet = copy.deepcopy(tweet)\n",
    "            modified_tweet['user_id'] = modified_tweet.pop('author_id')\n",
    "            modified_tweet['referenced_tweets_ids'] = modified_tweet['referenced_tweets'][0]['id']\n",
    "            modified_tweet['retweet_count'] = modified_tweet['public_metrics']['retweet_count']\n",
    "            yield modified_tweet     \n",
    "        except KeyError as e:\n",
    "            continue"
   ]
  },
  {
   "cell_type": "code",
   "execution_count": 39,
   "metadata": {},
   "outputs": [
    {
     "data": {
      "text/plain": [
       "[{'conversation_id': '1548763199838846980',\n",
       "  'referenced_tweets': [{'type': 'replied_to', 'id': '1548763199838846980'}],\n",
       "  'in_reply_to_user_id': '31047836',\n",
       "  'id': '1548764675122216961',\n",
       "  'reply_settings': 'everyone',\n",
       "  'entities': {'mentions': [{'start': 0,\n",
       "     'end': 16,\n",
       "     'username': 'michaeljknowles',\n",
       "     'id': '31047836'}]},\n",
       "  'public_metrics': {'retweet_count': 0,\n",
       "   'reply_count': 0,\n",
       "   'like_count': 0,\n",
       "   'quote_count': 0},\n",
       "  'source': 'Twitter for iPhone',\n",
       "  'created_at': '2022-07-17T20:20:47.000Z',\n",
       "  'lang': 'en',\n",
       "  'text': '@michaeljknowles Let’s help the move the climate change goal post. Say - all the way off the cliff?',\n",
       "  'user_id': '1545046309551235073',\n",
       "  'referenced_tweets_ids': '1548763199838846980',\n",
       "  'retweet_count': 0},\n",
       " {'conversation_id': '1548764675034185728',\n",
       "  'referenced_tweets': [{'type': 'retweeted', 'id': '1548571208219652096'}],\n",
       "  'id': '1548764675034185728',\n",
       "  'reply_settings': 'everyone',\n",
       "  'entities': {'mentions': [{'start': 3,\n",
       "     'end': 14,\n",
       "     'username': 'Botanygeek',\n",
       "     'id': '189658688'}]},\n",
       "  'public_metrics': {'retweet_count': 1941,\n",
       "   'reply_count': 0,\n",
       "   'like_count': 0,\n",
       "   'quote_count': 0},\n",
       "  'source': 'Twitter for Android',\n",
       "  'created_at': '2022-07-17T20:20:47.000Z',\n",
       "  'lang': 'en',\n",
       "  'text': 'RT @Botanygeek: Honestly, wouldn’t it be better if politicians in this race acted like climate change was the greatest threat to face human…',\n",
       "  'user_id': '2757343023',\n",
       "  'referenced_tweets_ids': '1548571208219652096',\n",
       "  'retweet_count': 1941}]"
      ]
     },
     "execution_count": 39,
     "metadata": {},
     "output_type": "execute_result"
    }
   ],
   "source": [
    "# Checking  generator output\n",
    "list(tweet_generator(tweets[0:2]))"
   ]
  },
  {
   "cell_type": "code",
   "execution_count": 40,
   "metadata": {},
   "outputs": [],
   "source": [
    "climate_feed_df = pd.DataFrame(tweet_generator(tweets))"
   ]
  },
  {
   "cell_type": "code",
   "execution_count": 41,
   "metadata": {},
   "outputs": [
    {
     "data": {
      "text/html": [
       "<div>\n",
       "<style scoped>\n",
       "    .dataframe tbody tr th:only-of-type {\n",
       "        vertical-align: middle;\n",
       "    }\n",
       "\n",
       "    .dataframe tbody tr th {\n",
       "        vertical-align: top;\n",
       "    }\n",
       "\n",
       "    .dataframe thead th {\n",
       "        text-align: right;\n",
       "    }\n",
       "</style>\n",
       "<table border=\"1\" class=\"dataframe\">\n",
       "  <thead>\n",
       "    <tr style=\"text-align: right;\">\n",
       "      <th></th>\n",
       "      <th>conversation_id</th>\n",
       "      <th>referenced_tweets</th>\n",
       "      <th>in_reply_to_user_id</th>\n",
       "      <th>id</th>\n",
       "      <th>reply_settings</th>\n",
       "      <th>entities</th>\n",
       "      <th>public_metrics</th>\n",
       "      <th>source</th>\n",
       "      <th>created_at</th>\n",
       "      <th>lang</th>\n",
       "      <th>text</th>\n",
       "      <th>user_id</th>\n",
       "      <th>referenced_tweets_ids</th>\n",
       "      <th>retweet_count</th>\n",
       "      <th>geo</th>\n",
       "    </tr>\n",
       "  </thead>\n",
       "  <tbody>\n",
       "    <tr>\n",
       "      <th>0</th>\n",
       "      <td>1548763199838846980</td>\n",
       "      <td>[{'type': 'replied_to', 'id': '154876319983884...</td>\n",
       "      <td>31047836</td>\n",
       "      <td>1548764675122216961</td>\n",
       "      <td>everyone</td>\n",
       "      <td>{'mentions': [{'start': 0, 'end': 16, 'usernam...</td>\n",
       "      <td>{'retweet_count': 0, 'reply_count': 0, 'like_c...</td>\n",
       "      <td>Twitter for iPhone</td>\n",
       "      <td>2022-07-17T20:20:47.000Z</td>\n",
       "      <td>en</td>\n",
       "      <td>@michaeljknowles Let’s help the move the clima...</td>\n",
       "      <td>1545046309551235073</td>\n",
       "      <td>1548763199838846980</td>\n",
       "      <td>0</td>\n",
       "      <td>NaN</td>\n",
       "    </tr>\n",
       "    <tr>\n",
       "      <th>1</th>\n",
       "      <td>1548764675034185728</td>\n",
       "      <td>[{'type': 'retweeted', 'id': '1548571208219652...</td>\n",
       "      <td>NaN</td>\n",
       "      <td>1548764675034185728</td>\n",
       "      <td>everyone</td>\n",
       "      <td>{'mentions': [{'start': 3, 'end': 14, 'usernam...</td>\n",
       "      <td>{'retweet_count': 1941, 'reply_count': 0, 'lik...</td>\n",
       "      <td>Twitter for Android</td>\n",
       "      <td>2022-07-17T20:20:47.000Z</td>\n",
       "      <td>en</td>\n",
       "      <td>RT @Botanygeek: Honestly, wouldn’t it be bette...</td>\n",
       "      <td>2757343023</td>\n",
       "      <td>1548571208219652096</td>\n",
       "      <td>1941</td>\n",
       "      <td>NaN</td>\n",
       "    </tr>\n",
       "    <tr>\n",
       "      <th>2</th>\n",
       "      <td>1548764674941927426</td>\n",
       "      <td>[{'type': 'retweeted', 'id': '1548692433155809...</td>\n",
       "      <td>NaN</td>\n",
       "      <td>1548764674941927426</td>\n",
       "      <td>everyone</td>\n",
       "      <td>{'mentions': [{'start': 3, 'end': 11, 'usernam...</td>\n",
       "      <td>{'retweet_count': 46, 'reply_count': 0, 'like_...</td>\n",
       "      <td>Twitter for iPhone</td>\n",
       "      <td>2022-07-17T20:20:47.000Z</td>\n",
       "      <td>en</td>\n",
       "      <td>RT @PGDynes: A chart for the “1976 was just as...</td>\n",
       "      <td>2813006618</td>\n",
       "      <td>1548692433155809281</td>\n",
       "      <td>46</td>\n",
       "      <td>NaN</td>\n",
       "    </tr>\n",
       "    <tr>\n",
       "      <th>3</th>\n",
       "      <td>1548764673029259265</td>\n",
       "      <td>[{'type': 'retweeted', 'id': '1548571208219652...</td>\n",
       "      <td>NaN</td>\n",
       "      <td>1548764673029259265</td>\n",
       "      <td>everyone</td>\n",
       "      <td>{'mentions': [{'start': 3, 'end': 14, 'usernam...</td>\n",
       "      <td>{'retweet_count': 1941, 'reply_count': 0, 'lik...</td>\n",
       "      <td>Twitter for Android</td>\n",
       "      <td>2022-07-17T20:20:47.000Z</td>\n",
       "      <td>en</td>\n",
       "      <td>RT @Botanygeek: Honestly, wouldn’t it be bette...</td>\n",
       "      <td>745379722587217920</td>\n",
       "      <td>1548571208219652096</td>\n",
       "      <td>1941</td>\n",
       "      <td>NaN</td>\n",
       "    </tr>\n",
       "    <tr>\n",
       "      <th>4</th>\n",
       "      <td>1548764666746257409</td>\n",
       "      <td>[{'type': 'retweeted', 'id': '1548315624098566...</td>\n",
       "      <td>NaN</td>\n",
       "      <td>1548764666746257409</td>\n",
       "      <td>everyone</td>\n",
       "      <td>{'mentions': [{'start': 3, 'end': 14, 'usernam...</td>\n",
       "      <td>{'retweet_count': 15774, 'reply_count': 0, 'li...</td>\n",
       "      <td>Twitter for Android</td>\n",
       "      <td>2022-07-17T20:20:45.000Z</td>\n",
       "      <td>en</td>\n",
       "      <td>RT @WhipRealer: It’s a farce. Always has been....</td>\n",
       "      <td>1375129529098862593</td>\n",
       "      <td>1548315624098566144</td>\n",
       "      <td>15774</td>\n",
       "      <td>NaN</td>\n",
       "    </tr>\n",
       "    <tr>\n",
       "      <th>...</th>\n",
       "      <td>...</td>\n",
       "      <td>...</td>\n",
       "      <td>...</td>\n",
       "      <td>...</td>\n",
       "      <td>...</td>\n",
       "      <td>...</td>\n",
       "      <td>...</td>\n",
       "      <td>...</td>\n",
       "      <td>...</td>\n",
       "      <td>...</td>\n",
       "      <td>...</td>\n",
       "      <td>...</td>\n",
       "      <td>...</td>\n",
       "      <td>...</td>\n",
       "      <td>...</td>\n",
       "    </tr>\n",
       "    <tr>\n",
       "      <th>90</th>\n",
       "      <td>1548764470578667526</td>\n",
       "      <td>[{'type': 'retweeted', 'id': '1548638641408610...</td>\n",
       "      <td>NaN</td>\n",
       "      <td>1548764470578667526</td>\n",
       "      <td>everyone</td>\n",
       "      <td>{'mentions': [{'start': 3, 'end': 14, 'usernam...</td>\n",
       "      <td>{'retweet_count': 1758, 'reply_count': 0, 'lik...</td>\n",
       "      <td>Twitter for iPhone</td>\n",
       "      <td>2022-07-17T20:19:59.000Z</td>\n",
       "      <td>en</td>\n",
       "      <td>RT @JamesGDyke: Bear in mind the heatwaves, wi...</td>\n",
       "      <td>13725202</td>\n",
       "      <td>1548638641408610304</td>\n",
       "      <td>1758</td>\n",
       "      <td>NaN</td>\n",
       "    </tr>\n",
       "    <tr>\n",
       "      <th>91</th>\n",
       "      <td>1548764469928550402</td>\n",
       "      <td>[{'type': 'retweeted', 'id': '1548707824645115...</td>\n",
       "      <td>NaN</td>\n",
       "      <td>1548764469928550402</td>\n",
       "      <td>everyone</td>\n",
       "      <td>{'mentions': [{'start': 3, 'end': 19, 'usernam...</td>\n",
       "      <td>{'retweet_count': 97, 'reply_count': 0, 'like_...</td>\n",
       "      <td>Twitter for iPhone</td>\n",
       "      <td>2022-07-17T20:19:58.000Z</td>\n",
       "      <td>en</td>\n",
       "      <td>RT @DeTocqueville14: It's kinda suspicious tha...</td>\n",
       "      <td>712449097458823168</td>\n",
       "      <td>1548707824645115905</td>\n",
       "      <td>97</td>\n",
       "      <td>NaN</td>\n",
       "    </tr>\n",
       "    <tr>\n",
       "      <th>92</th>\n",
       "      <td>1548764467693080576</td>\n",
       "      <td>[{'type': 'retweeted', 'id': '1548435892859047...</td>\n",
       "      <td>NaN</td>\n",
       "      <td>1548764467693080576</td>\n",
       "      <td>everyone</td>\n",
       "      <td>{'mentions': [{'start': 3, 'end': 17, 'usernam...</td>\n",
       "      <td>{'retweet_count': 25, 'reply_count': 0, 'like_...</td>\n",
       "      <td>Twitter for Android</td>\n",
       "      <td>2022-07-17T20:19:58.000Z</td>\n",
       "      <td>fr</td>\n",
       "      <td>RT @JerryJarrell9: @RepAdamSchiff Manmade clim...</td>\n",
       "      <td>28276119</td>\n",
       "      <td>1548435892859047936</td>\n",
       "      <td>25</td>\n",
       "      <td>NaN</td>\n",
       "    </tr>\n",
       "    <tr>\n",
       "      <th>93</th>\n",
       "      <td>1548764462722719745</td>\n",
       "      <td>[{'type': 'retweeted', 'id': '1548415680935968...</td>\n",
       "      <td>NaN</td>\n",
       "      <td>1548764462722719745</td>\n",
       "      <td>everyone</td>\n",
       "      <td>{'mentions': [{'start': 3, 'end': 15, 'usernam...</td>\n",
       "      <td>{'retweet_count': 86, 'reply_count': 0, 'like_...</td>\n",
       "      <td>Twitter Web App</td>\n",
       "      <td>2022-07-17T20:19:57.000Z</td>\n",
       "      <td>en</td>\n",
       "      <td>RT @Yodaonexile: @WhipRealer If the climate ch...</td>\n",
       "      <td>1542597765422895104</td>\n",
       "      <td>1548415680935968768</td>\n",
       "      <td>86</td>\n",
       "      <td>NaN</td>\n",
       "    </tr>\n",
       "    <tr>\n",
       "      <th>94</th>\n",
       "      <td>1548650362319536130</td>\n",
       "      <td>[{'type': 'replied_to', 'id': '154874117981831...</td>\n",
       "      <td>1404417357783744519</td>\n",
       "      <td>1548764461317644288</td>\n",
       "      <td>everyone</td>\n",
       "      <td>{'mentions': [{'start': 0, 'end': 9, 'username...</td>\n",
       "      <td>{'retweet_count': 0, 'reply_count': 0, 'like_c...</td>\n",
       "      <td>Twitter Web App</td>\n",
       "      <td>2022-07-17T20:19:56.000Z</td>\n",
       "      <td>en</td>\n",
       "      <td>@Besbits1 @GaryHicks13 @thefuriesreturn @mrjam...</td>\n",
       "      <td>1496523542439108612</td>\n",
       "      <td>1548741179818315777</td>\n",
       "      <td>0</td>\n",
       "      <td>NaN</td>\n",
       "    </tr>\n",
       "  </tbody>\n",
       "</table>\n",
       "<p>95 rows × 15 columns</p>\n",
       "</div>"
      ],
      "text/plain": [
       "        conversation_id                                  referenced_tweets  \\\n",
       "0   1548763199838846980  [{'type': 'replied_to', 'id': '154876319983884...   \n",
       "1   1548764675034185728  [{'type': 'retweeted', 'id': '1548571208219652...   \n",
       "2   1548764674941927426  [{'type': 'retweeted', 'id': '1548692433155809...   \n",
       "3   1548764673029259265  [{'type': 'retweeted', 'id': '1548571208219652...   \n",
       "4   1548764666746257409  [{'type': 'retweeted', 'id': '1548315624098566...   \n",
       "..                  ...                                                ...   \n",
       "90  1548764470578667526  [{'type': 'retweeted', 'id': '1548638641408610...   \n",
       "91  1548764469928550402  [{'type': 'retweeted', 'id': '1548707824645115...   \n",
       "92  1548764467693080576  [{'type': 'retweeted', 'id': '1548435892859047...   \n",
       "93  1548764462722719745  [{'type': 'retweeted', 'id': '1548415680935968...   \n",
       "94  1548650362319536130  [{'type': 'replied_to', 'id': '154874117981831...   \n",
       "\n",
       "    in_reply_to_user_id                   id reply_settings  \\\n",
       "0              31047836  1548764675122216961       everyone   \n",
       "1                   NaN  1548764675034185728       everyone   \n",
       "2                   NaN  1548764674941927426       everyone   \n",
       "3                   NaN  1548764673029259265       everyone   \n",
       "4                   NaN  1548764666746257409       everyone   \n",
       "..                  ...                  ...            ...   \n",
       "90                  NaN  1548764470578667526       everyone   \n",
       "91                  NaN  1548764469928550402       everyone   \n",
       "92                  NaN  1548764467693080576       everyone   \n",
       "93                  NaN  1548764462722719745       everyone   \n",
       "94  1404417357783744519  1548764461317644288       everyone   \n",
       "\n",
       "                                             entities  \\\n",
       "0   {'mentions': [{'start': 0, 'end': 16, 'usernam...   \n",
       "1   {'mentions': [{'start': 3, 'end': 14, 'usernam...   \n",
       "2   {'mentions': [{'start': 3, 'end': 11, 'usernam...   \n",
       "3   {'mentions': [{'start': 3, 'end': 14, 'usernam...   \n",
       "4   {'mentions': [{'start': 3, 'end': 14, 'usernam...   \n",
       "..                                                ...   \n",
       "90  {'mentions': [{'start': 3, 'end': 14, 'usernam...   \n",
       "91  {'mentions': [{'start': 3, 'end': 19, 'usernam...   \n",
       "92  {'mentions': [{'start': 3, 'end': 17, 'usernam...   \n",
       "93  {'mentions': [{'start': 3, 'end': 15, 'usernam...   \n",
       "94  {'mentions': [{'start': 0, 'end': 9, 'username...   \n",
       "\n",
       "                                       public_metrics               source  \\\n",
       "0   {'retweet_count': 0, 'reply_count': 0, 'like_c...   Twitter for iPhone   \n",
       "1   {'retweet_count': 1941, 'reply_count': 0, 'lik...  Twitter for Android   \n",
       "2   {'retweet_count': 46, 'reply_count': 0, 'like_...   Twitter for iPhone   \n",
       "3   {'retweet_count': 1941, 'reply_count': 0, 'lik...  Twitter for Android   \n",
       "4   {'retweet_count': 15774, 'reply_count': 0, 'li...  Twitter for Android   \n",
       "..                                                ...                  ...   \n",
       "90  {'retweet_count': 1758, 'reply_count': 0, 'lik...   Twitter for iPhone   \n",
       "91  {'retweet_count': 97, 'reply_count': 0, 'like_...   Twitter for iPhone   \n",
       "92  {'retweet_count': 25, 'reply_count': 0, 'like_...  Twitter for Android   \n",
       "93  {'retweet_count': 86, 'reply_count': 0, 'like_...      Twitter Web App   \n",
       "94  {'retweet_count': 0, 'reply_count': 0, 'like_c...      Twitter Web App   \n",
       "\n",
       "                  created_at lang  \\\n",
       "0   2022-07-17T20:20:47.000Z   en   \n",
       "1   2022-07-17T20:20:47.000Z   en   \n",
       "2   2022-07-17T20:20:47.000Z   en   \n",
       "3   2022-07-17T20:20:47.000Z   en   \n",
       "4   2022-07-17T20:20:45.000Z   en   \n",
       "..                       ...  ...   \n",
       "90  2022-07-17T20:19:59.000Z   en   \n",
       "91  2022-07-17T20:19:58.000Z   en   \n",
       "92  2022-07-17T20:19:58.000Z   fr   \n",
       "93  2022-07-17T20:19:57.000Z   en   \n",
       "94  2022-07-17T20:19:56.000Z   en   \n",
       "\n",
       "                                                 text              user_id  \\\n",
       "0   @michaeljknowles Let’s help the move the clima...  1545046309551235073   \n",
       "1   RT @Botanygeek: Honestly, wouldn’t it be bette...           2757343023   \n",
       "2   RT @PGDynes: A chart for the “1976 was just as...           2813006618   \n",
       "3   RT @Botanygeek: Honestly, wouldn’t it be bette...   745379722587217920   \n",
       "4   RT @WhipRealer: It’s a farce. Always has been....  1375129529098862593   \n",
       "..                                                ...                  ...   \n",
       "90  RT @JamesGDyke: Bear in mind the heatwaves, wi...             13725202   \n",
       "91  RT @DeTocqueville14: It's kinda suspicious tha...   712449097458823168   \n",
       "92  RT @JerryJarrell9: @RepAdamSchiff Manmade clim...             28276119   \n",
       "93  RT @Yodaonexile: @WhipRealer If the climate ch...  1542597765422895104   \n",
       "94  @Besbits1 @GaryHicks13 @thefuriesreturn @mrjam...  1496523542439108612   \n",
       "\n",
       "   referenced_tweets_ids  retweet_count  geo  \n",
       "0    1548763199838846980              0  NaN  \n",
       "1    1548571208219652096           1941  NaN  \n",
       "2    1548692433155809281             46  NaN  \n",
       "3    1548571208219652096           1941  NaN  \n",
       "4    1548315624098566144          15774  NaN  \n",
       "..                   ...            ...  ...  \n",
       "90   1548638641408610304           1758  NaN  \n",
       "91   1548707824645115905             97  NaN  \n",
       "92   1548435892859047936             25  NaN  \n",
       "93   1548415680935968768             86  NaN  \n",
       "94   1548741179818315777              0  NaN  \n",
       "\n",
       "[95 rows x 15 columns]"
      ]
     },
     "execution_count": 41,
     "metadata": {},
     "output_type": "execute_result"
    }
   ],
   "source": [
    "climate_feed_df"
   ]
  },
  {
   "cell_type": "markdown",
   "metadata": {},
   "source": [
    "# Q3(1 points) List datatype using climate_feed_df. Describe which attributes doesn't have correct data types. What should be correct datatype?"
   ]
  },
  {
   "cell_type": "code",
   "execution_count": 43,
   "metadata": {},
   "outputs": [
    {
     "data": {
      "text/plain": [
       "conversation_id          object\n",
       "referenced_tweets        object\n",
       "in_reply_to_user_id      object\n",
       "id                       object\n",
       "reply_settings           object\n",
       "entities                 object\n",
       "public_metrics           object\n",
       "source                   object\n",
       "created_at               object\n",
       "lang                     object\n",
       "text                     object\n",
       "user_id                  object\n",
       "referenced_tweets_ids    object\n",
       "retweet_count             int64\n",
       "geo                      object\n",
       "dtype: object"
      ]
     },
     "execution_count": 43,
     "metadata": {},
     "output_type": "execute_result"
    }
   ],
   "source": [
    "# write code here datatype listing\n",
    "climate_feed_df.dtypes"
   ]
  },
  {
   "cell_type": "markdown",
   "metadata": {},
   "source": [
    "# Write columns with wrong datatype and mention correct data type too.\n",
    "\n",
    "All id's should be either string or integer. Tweets/texts should be strings. \n"
   ]
  },
  {
   "cell_type": "markdown",
   "metadata": {},
   "source": [
    "# Q4 (1.5 point) Complete following tweet_user_generator. Generator should yield only *user* value from a tweet\n",
    "\n",
    "- As per the twitter API the user information is in the 'users' object within the 'includes' object of the response."
   ]
  },
  {
   "cell_type": "code",
   "execution_count": 126,
   "metadata": {},
   "outputs": [],
   "source": [
    "def tweet_user_generator(tweet_user_list):\n",
    "    for user in tweet_user_list:\n",
    "        try:\n",
    "            yield user\n",
    "        except KeyError:\n",
    "            continue"
   ]
  },
  {
   "cell_type": "code",
   "execution_count": 127,
   "metadata": {},
   "outputs": [],
   "source": [
    "user_df = pd.DataFrame(tweet_user_generator(climate_tweets))"
   ]
  },
  {
   "cell_type": "code",
   "execution_count": 128,
   "metadata": {},
   "outputs": [
    {
     "data": {
      "text/html": [
       "<div>\n",
       "<style scoped>\n",
       "    .dataframe tbody tr th:only-of-type {\n",
       "        vertical-align: middle;\n",
       "    }\n",
       "\n",
       "    .dataframe tbody tr th {\n",
       "        vertical-align: top;\n",
       "    }\n",
       "\n",
       "    .dataframe thead th {\n",
       "        text-align: right;\n",
       "    }\n",
       "</style>\n",
       "<table border=\"1\" class=\"dataframe\">\n",
       "  <thead>\n",
       "    <tr style=\"text-align: right;\">\n",
       "      <th></th>\n",
       "      <th>0</th>\n",
       "    </tr>\n",
       "  </thead>\n",
       "  <tbody>\n",
       "    <tr>\n",
       "      <th>0</th>\n",
       "      <td>data</td>\n",
       "    </tr>\n",
       "    <tr>\n",
       "      <th>1</th>\n",
       "      <td>includes</td>\n",
       "    </tr>\n",
       "    <tr>\n",
       "      <th>2</th>\n",
       "      <td>meta</td>\n",
       "    </tr>\n",
       "  </tbody>\n",
       "</table>\n",
       "</div>"
      ],
      "text/plain": [
       "          0\n",
       "0      data\n",
       "1  includes\n",
       "2      meta"
      ]
     },
     "execution_count": 128,
     "metadata": {},
     "output_type": "execute_result"
    }
   ],
   "source": [
    "user_df"
   ]
  },
  {
   "cell_type": "markdown",
   "metadata": {},
   "source": [
    "# Q5(1 point) List datatypes of columns using user_df. Describe which attributes doesn't have correct data types. What should be correct datatype for each case?"
   ]
  },
  {
   "cell_type": "code",
   "execution_count": 142,
   "metadata": {},
   "outputs": [
    {
     "data": {
      "text/plain": [
       "0    object\n",
       "dtype: object"
      ]
     },
     "execution_count": 142,
     "metadata": {},
     "output_type": "execute_result"
    }
   ],
   "source": [
    "# write code here for datatype listing\n",
    "user_df.dtypes"
   ]
  },
  {
   "cell_type": "markdown",
   "metadata": {},
   "source": [
    "# write columns with wrong datatype and mention correct data type too.\n",
    "\n",
    "0 should be string"
   ]
  },
  {
   "cell_type": "markdown",
   "metadata": {},
   "source": [
    "# Q6 (1 point) Complete following retweeted_status_generator. Generator should yield dictionary of retweeted_status value from each tweet. If a tweet doesn't have this key return empty dictionary.\n",
    "\n",
    "- As per the twitter API the user information is in the 'users' object within the 'includes' object of the response."
   ]
  },
  {
   "cell_type": "code",
   "execution_count": 132,
   "metadata": {},
   "outputs": [],
   "source": [
    "retweeted_status_df = climate_feed_df[['id', 'retweet_count']]"
   ]
  },
  {
   "cell_type": "code",
   "execution_count": 133,
   "metadata": {},
   "outputs": [
    {
     "data": {
      "text/html": [
       "<div>\n",
       "<style scoped>\n",
       "    .dataframe tbody tr th:only-of-type {\n",
       "        vertical-align: middle;\n",
       "    }\n",
       "\n",
       "    .dataframe tbody tr th {\n",
       "        vertical-align: top;\n",
       "    }\n",
       "\n",
       "    .dataframe thead th {\n",
       "        text-align: right;\n",
       "    }\n",
       "</style>\n",
       "<table border=\"1\" class=\"dataframe\">\n",
       "  <thead>\n",
       "    <tr style=\"text-align: right;\">\n",
       "      <th></th>\n",
       "      <th>id</th>\n",
       "      <th>retweet_count</th>\n",
       "    </tr>\n",
       "  </thead>\n",
       "  <tbody>\n",
       "    <tr>\n",
       "      <th>0</th>\n",
       "      <td>1548764675122216961</td>\n",
       "      <td>0</td>\n",
       "    </tr>\n",
       "    <tr>\n",
       "      <th>1</th>\n",
       "      <td>1548764675034185728</td>\n",
       "      <td>1941</td>\n",
       "    </tr>\n",
       "    <tr>\n",
       "      <th>2</th>\n",
       "      <td>1548764674941927426</td>\n",
       "      <td>46</td>\n",
       "    </tr>\n",
       "    <tr>\n",
       "      <th>3</th>\n",
       "      <td>1548764673029259265</td>\n",
       "      <td>1941</td>\n",
       "    </tr>\n",
       "    <tr>\n",
       "      <th>4</th>\n",
       "      <td>1548764666746257409</td>\n",
       "      <td>15774</td>\n",
       "    </tr>\n",
       "  </tbody>\n",
       "</table>\n",
       "</div>"
      ],
      "text/plain": [
       "                    id  retweet_count\n",
       "0  1548764675122216961              0\n",
       "1  1548764675034185728           1941\n",
       "2  1548764674941927426             46\n",
       "3  1548764673029259265           1941\n",
       "4  1548764666746257409          15774"
      ]
     },
     "execution_count": 133,
     "metadata": {},
     "output_type": "execute_result"
    }
   ],
   "source": [
    "retweeted_status_df.head()"
   ]
  },
  {
   "cell_type": "markdown",
   "metadata": {},
   "source": [
    "# Q7 (1 point) Write code to find number of rows in retweeted_status_df that were not retweeted. print number of such rows."
   ]
  },
  {
   "cell_type": "code",
   "execution_count": 141,
   "metadata": {},
   "outputs": [
    {
     "data": {
      "text/plain": [
       "17"
      ]
     },
     "execution_count": 141,
     "metadata": {},
     "output_type": "execute_result"
    }
   ],
   "source": [
    "# Write code here\n",
    "(retweeted_status_df['retweet_count'] == 0).sum()"
   ]
  }
 ],
 "metadata": {
  "kernelspec": {
   "display_name": "Python 3 (ipykernel)",
   "language": "python",
   "name": "python3"
  },
  "language_info": {
   "codemirror_mode": {
    "name": "ipython",
    "version": 3
   },
   "file_extension": ".py",
   "mimetype": "text/x-python",
   "name": "python",
   "nbconvert_exporter": "python",
   "pygments_lexer": "ipython3",
   "version": "3.10.0"
  },
  "toc": {
   "base_numbering": 1,
   "nav_menu": {},
   "number_sections": false,
   "sideBar": true,
   "skip_h1_title": false,
   "title_cell": "Table of Contents",
   "title_sidebar": "Contents",
   "toc_cell": false,
   "toc_position": {},
   "toc_section_display": true,
   "toc_window_display": false
  },
  "varInspector": {
   "cols": {
    "lenName": 16,
    "lenType": 16,
    "lenVar": 40
   },
   "kernels_config": {
    "python": {
     "delete_cmd_postfix": "",
     "delete_cmd_prefix": "del ",
     "library": "var_list.py",
     "varRefreshCmd": "print(var_dic_list())"
    },
    "r": {
     "delete_cmd_postfix": ") ",
     "delete_cmd_prefix": "rm(",
     "library": "var_list.r",
     "varRefreshCmd": "cat(var_dic_list()) "
    }
   },
   "types_to_exclude": [
    "module",
    "function",
    "builtin_function_or_method",
    "instance",
    "_Feature"
   ],
   "window_display": false
  }
 },
 "nbformat": 4,
 "nbformat_minor": 2
}
