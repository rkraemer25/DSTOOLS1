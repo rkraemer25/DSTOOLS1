{
 "cells": [
  {
   "cell_type": "markdown",
   "metadata": {},
   "source": [
    "# Lecture 2.3: grep, Regular Expression"
   ]
  },
  {
   "cell_type": "markdown",
   "metadata": {},
   "source": [
    "## Regular expressions (regex)\n",
    "### regular expression in Linux\n",
    "\n",
    "Before doing more interesting __grepping__, we need to understand regular expression.\n",
    "\n",
    "Regular expression is a pattern of text used by other program like grep, sed, awk, and other application to filter the input text\n",
    "\n",
    "### Let's go over some basic of regex\n",
    "\n",
    "regular expression are processed by regular expression enginge.\n",
    "\n",
    "### regex engines in Linux\n",
    "\n",
    "- The Basic Regular Expression (BRE) engine.\n",
    "- The Extended Regular Expression (ERE) engine.\n",
    "\n",
    "Most Linux programs understand BRE specification but like sed understanded some of ERE specification. As you can guess there any many regex implementation. It can be hard to write a program which works with all of them."
   ]
  },
  {
   "cell_type": "markdown",
   "metadata": {},
   "source": [
    "### Anchoring\n",
    "\n",
    "- use caret (^) for beginning of line\n",
    "- use $ for end of line "
   ]
  },
  {
   "cell_type": "markdown",
   "metadata": {},
   "source": [
    "### Character and digit matching\n",
    "\n",
    "- .(dot) is used to match any character except newline.\n",
    "- * mean preceding character must match zero or more time.\n",
    "- use character class to match any character in a set like [eij].\n",
    "- use - to specify range of characters like [a-f] or digits like [0-9].\n",
    "- to achieve the reverse effect precede the character class range with a caret [^aei].\n",
    "\n",
    "### special character classes\n",
    "\n",
    "- [[:alpha:]] any alphabetical character\n",
    "- [[:lower:]] for a-z lower case\n",
    "- [[:digit:]] 0 to 9\n",
    "- [[:alnum:]] for 0-9, A-Z, or a-z\n",
    "- [[:punct:]] for any punctuation character\n",
    "- [[:blank:]] space or tab only"
   ]
  },
  {
   "cell_type": "code",
   "execution_count": 10,
   "metadata": {},
   "outputs": [
    {
     "name": "stdout",
     "output_type": "stream",
     "text": [
      "120 west street \\n york steet 211\r\n"
     ]
    }
   ],
   "source": [
    "# use ! to run the unix commands from jupyter notebook\n",
    "!echo \"120 west street \\n york steet 211\" | grep \"^[0-9]\""
   ]
  },
  {
   "cell_type": "code",
   "execution_count": 11,
   "metadata": {},
   "outputs": [
    {
     "name": "stdout",
     "output_type": "stream",
     "text": [
      "data science skills \\n 1- lot of hacking skill in data science\r\n"
     ]
    }
   ],
   "source": [
    "# Can you write regex after grep to find lines ending with word science ?\n",
    "\n",
    "!echo \"data science skills \\n 1- lot of hacking skill in data science\" | grep \"science$\""
   ]
  },
  {
   "cell_type": "code",
   "execution_count": 12,
   "metadata": {},
   "outputs": [
    {
     "name": "stdout",
     "output_type": "stream",
     "text": [
      "We are looking for best accuracy \\n State of the art accuracy is 80%\r\n"
     ]
    }
   ],
   "source": [
    "# . usage Search of st pattern in lines\n",
    "\n",
    "!echo \"We are looking for best accuracy \\n State of the art accuracy is 80%\" | grep \".st\""
   ]
  },
  {
   "cell_type": "code",
   "execution_count": 13,
   "metadata": {},
   "outputs": [
    {
     "name": "stdout",
     "output_type": "stream",
     "text": [
      "It was a long experiment. \\n Numerical experimnt can be long. \\n It took 5 days to complete\r\n"
     ]
    }
   ],
   "source": [
    "# * usage. This can be useful to ignore typo\n",
    "# Find line with word experiment\n",
    "# See how uusing * mean zero or more \n",
    "\n",
    "!echo \"It was a long experiment. \\n Numerical experimnt can be long. \\n It took 5 days to complete\" | grep \"experime*nt\""
   ]
  },
  {
   "cell_type": "markdown",
   "metadata": {},
   "source": [
    "### Negating class\n",
    "\n",
    "what about searching for character not in character class?\n",
    "\n",
    "- Use ^ inside bracket as first character\n",
    "- if you want to make the '^' character a list item, place it anywhere but first."
   ]
  },
  {
   "cell_type": "code",
   "execution_count": 14,
   "metadata": {},
   "outputs": [
    {
     "name": "stdout",
     "output_type": "stream",
     "text": [
      "hour billed 88. \\n hour rebilled 23. \\n hour overbilled 98\r\n"
     ]
    }
   ],
   "source": [
    "!echo \"hour billed 88. \\n hour rebilled 23. \\n hour overbilled 98\" | grep \"[^[:space:]]billed\""
   ]
  },
  {
   "cell_type": "markdown",
   "metadata": {},
   "source": [
    "You should use \"A\" option if you want to print NUM lines of trailing context after matching lines"
   ]
  },
  {
   "cell_type": "markdown",
   "metadata": {},
   "source": [
    "## Extended Regular Expressions (ERE) and grep command\n",
    "\n",
    "- ? mean previous character can exist once or none (is optional)\n",
    "- \"+\" character before the plus sign must exist one or more times (is mandatory)\n",
    "- [[:word:]] or \\w word characters (letters, numbers and underscores)"
   ]
  },
  {
   "cell_type": "code",
   "execution_count": 15,
   "metadata": {},
   "outputs": [
    {
     "name": "stdout",
     "output_type": "stream",
     "text": [
      "color\r\n"
     ]
    }
   ],
   "source": [
    "# Note that you have to use flag -E\n",
    "# once scenario\n",
    "!echo \"color\" | grep -E \"colo?r\""
   ]
  },
  {
   "cell_type": "code",
   "execution_count": 16,
   "metadata": {},
   "outputs": [
    {
     "name": "stdout",
     "output_type": "stream",
     "text": [
      "colr\r\n"
     ]
    }
   ],
   "source": [
    "# None scenario\n",
    "!echo \"colr\" | grep -E \"colo?r\""
   ]
  },
  {
   "cell_type": "code",
   "execution_count": 17,
   "metadata": {},
   "outputs": [],
   "source": [
    "# There should be no output. Why?\n",
    "!echo \"coloor\" | grep -E \"colo?r\""
   ]
  },
  {
   "cell_type": "markdown",
   "metadata": {},
   "source": [
    "## Grouping Expression\n",
    "\n",
    "group expressions so that regex enginges will consider them one piece"
   ]
  },
  {
   "cell_type": "code",
   "execution_count": 19,
   "metadata": {},
   "outputs": [
    {
     "name": "stdout",
     "output_type": "stream",
     "text": [
      "MeetGreetGreet\r\n"
     ]
    }
   ],
   "source": [
    "! echo \"MeetGreetGreet\" | grep -E \"Meet(Greet)+\""
   ]
  },
  {
   "cell_type": "code",
   "execution_count": 20,
   "metadata": {},
   "outputs": [],
   "source": [
    "! echo \"Meet\" | grep -E \"Meet(Greet)+\""
   ]
  },
  {
   "cell_type": "markdown",
   "metadata": {},
   "source": [
    "## Remembering pattern with \"(\",\")\" and \"\\1\"**\n",
    "\n",
    "There are situations where we need to remember what we have found like detecting duplicate words.\n",
    "\n",
    "__Mark part of a pattern using (and) and recall the pattern with \\ followed by a single digit__\n",
    "\n",
    "Note: You have to use escape (and) if you are not using extended regular expression"
   ]
  },
  {
   "cell_type": "code",
   "execution_count": 22,
   "metadata": {},
   "outputs": [
    {
     "name": "stdout",
     "output_type": "stream",
     "text": [
      "can you help help me. \\n I can't find my file\r\n"
     ]
    }
   ],
   "source": [
    "# Let find line containing duplicate word\n",
    "\n",
    "!echo \"can you help help me. \\n I can't find my file\" | grep -E \"([[:alpha:]]+) \\1\""
   ]
  },
  {
   "cell_type": "markdown",
   "metadata": {},
   "source": [
    "## Note: Special Characters(.*[ ]^${}+?|()\\)\n",
    "\n",
    "As you have seen regex uses some special character. You need to escape these special characters using the backslash character ()."
   ]
  },
  {
   "cell_type": "code",
   "execution_count": 23,
   "metadata": {},
   "outputs": [
    {
     "name": "stdout",
     "output_type": "stream",
     "text": [
      "Meet(Greet)\r\n"
     ]
    }
   ],
   "source": [
    "! echo \"Meet(Greet)\" | grep -E \"Meet\\(Greet\\)\""
   ]
  },
  {
   "cell_type": "code",
   "execution_count": null,
   "metadata": {},
   "outputs": [],
   "source": []
  }
 ],
 "metadata": {
  "kernelspec": {
   "display_name": "Python 3 (ipykernel)",
   "language": "python",
   "name": "python3"
  },
  "language_info": {
   "codemirror_mode": {
    "name": "ipython",
    "version": 3
   },
   "file_extension": ".py",
   "mimetype": "text/x-python",
   "name": "python",
   "nbconvert_exporter": "python",
   "pygments_lexer": "ipython3",
   "version": "3.8.8"
  }
 },
 "nbformat": 4,
 "nbformat_minor": 2
}
