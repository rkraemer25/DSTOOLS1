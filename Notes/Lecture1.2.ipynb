{
 "cells": [
  {
   "cell_type": "code",
   "execution_count": 1,
   "id": "d285f297",
   "metadata": {},
   "outputs": [
    {
     "name": "stdout",
     "output_type": "stream",
     "text": [
      "7.7 µs ± 865 ns per loop (mean ± std. dev. of 7 runs, 100000 loops each)\n"
     ]
    }
   ],
   "source": [
    "# Let's time, drawing 10 random draw of Head(H) and Tail(T)\n",
    "import random\n",
    "%timeit [ random.choice(['H', 'T']) for i in range(10)]"
   ]
  },
  {
   "cell_type": "code",
   "execution_count": 2,
   "id": "cfed2708",
   "metadata": {},
   "outputs": [
    {
     "data": {
      "text/plain": [
       "Text(0, 0.5, 'sin (x)')"
      ]
     },
     "execution_count": 2,
     "metadata": {},
     "output_type": "execute_result"
    },
    {
     "data": {
      "image/png": "[encoded data removed]",
      "text/plain": [
       "<Figure size 432x288 with 1 Axes>"
      ]
     },
     "metadata": {
      "needs_background": "light"
     },
     "output_type": "display_data"
    }
   ],
   "source": [
    "import matplotlib.pyplot as plt\n",
    "import numpy as np\n",
    "%matplotlib inline\n",
    "x = np.linspace(0, 10, 40)\n",
    "plt.plot(x, np.sin(x))\n",
    "plt.xlabel(\"x\")\n",
    "plt.ylabel(\"sin (x)\")"
   ]
  },
  {
   "cell_type": "code",
   "execution_count": null,
   "id": "6a987d30",
   "metadata": {},
   "outputs": [],
   "source": [
    "%load_ext autoreload\n",
    "# extension to reload modules every time before executing code\n",
    "%autoreload 2"
   ]
  },
  {
   "cell_type": "code",
   "execution_count": 4,
   "id": "2af0fbec",
   "metadata": {},
   "outputs": [
    {
     "name": "stdout",
     "output_type": "stream",
     "text": [
      "iteration 1\n",
      "iteration 2\n",
      "iteration 3\n",
      "iteration 4\n",
      "iteration 5\n"
     ]
    }
   ],
   "source": [
    "%%bash\n",
    "# this template is quite useful for running your code multiple time with different hyper parameters etc.\n",
    "for i in $(seq 5)\n",
    "do\n",
    "echo \"iteration $i\"\n",
    "\n",
    "done"
   ]
  },
  {
   "cell_type": "code",
   "execution_count": 5,
   "id": "64919b9f",
   "metadata": {},
   "outputs": [
    {
     "data": {
      "text/plain": [
       "[1, 8, 27, 64, 125, 216, 343, 512, 729, 1000]"
      ]
     },
     "execution_count": 5,
     "metadata": {},
     "output_type": "execute_result"
    }
   ],
   "source": [
    "[i**3 for i in range(1, 11)]"
   ]
  },
  {
   "cell_type": "code",
   "execution_count": 10,
   "id": "6ad577ae",
   "metadata": {},
   "outputs": [
    {
     "data": {
      "text/plain": [
       "['Europe', 'Africa', 'America', 'Antarctica', 'Asia', 'Australia']"
      ]
     },
     "execution_count": 10,
     "metadata": {},
     "output_type": "execute_result"
    }
   ],
   "source": [
    "continentsL = ['Europe', 'Africa', 'America', 'Antarctica', 'Asia', 'Australia']\n",
    "\n",
    "continentsL"
   ]
  },
  {
   "cell_type": "code",
   "execution_count": 7,
   "id": "68155117",
   "metadata": {},
   "outputs": [
    {
     "name": "stdout",
     "output_type": "stream",
     "text": [
      "['Africa', 'America', 'Antarctica', 'Asia', 'Australia', 'Europe']\n"
     ]
    }
   ],
   "source": [
    "# sort this list alphabetically\n",
    "continentsL.sort()\n",
    "print(continentsL)"
   ]
  },
  {
   "cell_type": "code",
   "execution_count": 11,
   "id": "1f280967",
   "metadata": {},
   "outputs": [
    {
     "data": {
      "text/plain": [
       "['Africa', 'America', 'Antarctica', 'Asia', 'Australia', 'Europe']"
      ]
     },
     "execution_count": 11,
     "metadata": {},
     "output_type": "execute_result"
    }
   ],
   "source": [
    "#run the continentsL = .... cell again to get the unsorted list\n",
    "sorted(continentsL)"
   ]
  },
  {
   "cell_type": "code",
   "execution_count": 12,
   "id": "24ddb325",
   "metadata": {},
   "outputs": [
    {
     "data": {
      "text/plain": [
       "['Europe', 'Africa', 'America', 'Antarctica', 'Asia', 'Australia']"
      ]
     },
     "execution_count": 12,
     "metadata": {},
     "output_type": "execute_result"
    }
   ],
   "source": [
    "continentsL"
   ]
  },
  {
   "cell_type": "code",
   "execution_count": 13,
   "id": "abe5b9b7",
   "metadata": {},
   "outputs": [
    {
     "data": {
      "text/plain": [
       "['Antarctica', 'Australia', 'America', 'Europe', 'Africa', 'Asia']"
      ]
     },
     "execution_count": 13,
     "metadata": {},
     "output_type": "execute_result"
    }
   ],
   "source": [
    "# to sort the list by length in decreasing order\n",
    "sorted(continentsL, key=len, reverse = True)"
   ]
  },
  {
   "cell_type": "code",
   "execution_count": 14,
   "id": "d3bf3cd7",
   "metadata": {},
   "outputs": [
    {
     "name": "stdout",
     "output_type": "stream",
     "text": [
      "{'threshold': 20, 'neighborhoodSize': 4, 'tolerance': 0.002}\n"
     ]
    }
   ],
   "source": [
    "# creating dictionaries\n",
    "algoConfig = {}  # can use also algoConfig = dict()\n",
    "algoConfig['threshold'] = 20 # in pixel\n",
    "algoConfig['neighborhoodSize'] = 4 # 4X4 neighborhood\n",
    "algoConfig['tolerance'] = 0.002 # convergence tolerance\n",
    "print(algoConfig)"
   ]
  },
  {
   "cell_type": "code",
   "execution_count": 16,
   "id": "bdc9810f",
   "metadata": {},
   "outputs": [
    {
     "name": "stdout",
     "output_type": "stream",
     "text": [
      "name of parameter is threshold and value is 20\n",
      "name of parameter is neighborhoodSize and value is 4\n",
      "name of parameter is tolerance and value is 0.002\n"
     ]
    }
   ],
   "source": [
    "# How to iterate over dictionary items\n",
    "for name_key, value in algoConfig.items():\n",
    "    print('name of parameter is {} and value is {}'.format(name_key, value))"
   ]
  },
  {
   "cell_type": "code",
   "execution_count": 17,
   "id": "02d57da3",
   "metadata": {},
   "outputs": [
    {
     "data": {
      "text/plain": [
       "True"
      ]
     },
     "execution_count": 17,
     "metadata": {},
     "output_type": "execute_result"
    }
   ],
   "source": [
    "# other useful dictionary methods are keys(), values()\n",
    "\n",
    "# How to find if key is in dictionary\n",
    "## Use in key word\n",
    "\n",
    "# if key is in dictionary\n",
    "'threshold' in algoConfig"
   ]
  },
  {
   "cell_type": "code",
   "execution_count": 18,
   "id": "11962a82",
   "metadata": {},
   "outputs": [
    {
     "data": {
      "text/plain": [
       "False"
      ]
     },
     "execution_count": 18,
     "metadata": {},
     "output_type": "execute_result"
    }
   ],
   "source": [
    "# if key is not in the dictionary\n",
    "'pixel_size' in algoConfig"
   ]
  },
  {
   "cell_type": "code",
   "execution_count": 19,
   "id": "28319532",
   "metadata": {},
   "outputs": [
    {
     "ename": "KeyError",
     "evalue": "'maxLength'",
     "output_type": "error",
     "traceback": [
      "\u001b[0;31m---------------------------------------------------------------------------\u001b[0m",
      "\u001b[0;31mKeyError\u001b[0m                                  Traceback (most recent call last)",
      "\u001b[0;32m/var/folders/r_/hnds4s357nn25pr5758mxqh40000gn/T/ipykernel_75282/510518078.py\u001b[0m in \u001b[0;36m<module>\u001b[0;34m\u001b[0m\n\u001b[1;32m      2\u001b[0m \u001b[0;34m\u001b[0m\u001b[0m\n\u001b[1;32m      3\u001b[0m \u001b[0;31m# We get key error\u001b[0m\u001b[0;34m\u001b[0m\u001b[0;34m\u001b[0m\u001b[0;34m\u001b[0m\u001b[0m\n\u001b[0;32m----> 4\u001b[0;31m \u001b[0malgoConfig\u001b[0m\u001b[0;34m[\u001b[0m\u001b[0;34m'maxLength'\u001b[0m\u001b[0;34m]\u001b[0m\u001b[0;34m\u001b[0m\u001b[0;34m\u001b[0m\u001b[0m\n\u001b[0m",
      "\u001b[0;31mKeyError\u001b[0m: 'maxLength'"
     ]
    }
   ],
   "source": [
    "# What happen when we access a non-existent key?\n",
    "\n",
    "# We get key error\n",
    "algoConfig['maxLength']"
   ]
  },
  {
   "cell_type": "code",
   "execution_count": 20,
   "id": "5d05ca63",
   "metadata": {},
   "outputs": [
    {
     "name": "stdout",
     "output_type": "stream",
     "text": [
      "None\n",
      "Value Not Found\n"
     ]
    }
   ],
   "source": [
    "# To avoid KeyError we can use\n",
    "print(algoConfig.get('maxLength'))\n",
    "# or\n",
    "print(algoConfig.get('maxLength', 'Value Not Found'))"
   ]
  },
  {
   "cell_type": "code",
   "execution_count": 21,
   "id": "33e4d16f",
   "metadata": {},
   "outputs": [
    {
     "name": "stdout",
     "output_type": "stream",
     "text": [
      "20\n",
      "2\n"
     ]
    }
   ],
   "source": [
    "# We can also use the setdefault method to set the value, if the key is not in the dictionary\n",
    "\n",
    "print(algoConfig.setdefault('threshold', 0))\n",
    "print(algoConfig.setdefault('radius', 2))"
   ]
  },
  {
   "cell_type": "markdown",
   "id": "634f4356",
   "metadata": {},
   "source": [
    "# Defaultdict\n",
    "\n",
    "setdefault is useful when the key doesn't exist. This can be monotonous, we have to do every time.\n",
    "\n",
    "Let's say we want to count the frequencies of numbers in a list. "
   ]
  },
  {
   "cell_type": "code",
   "execution_count": 22,
   "id": "203ea8f6",
   "metadata": {},
   "outputs": [
    {
     "name": "stdout",
     "output_type": "stream",
     "text": [
      "{1: 1, 3: 2, 5: 1, 7: 3}\n"
     ]
    }
   ],
   "source": [
    "# we can do this way\n",
    "observ = [1, 3, 5, 7, 3, 7, 7]\n",
    "def countFreq(observations):\n",
    "    frequencies = {}\n",
    "    for item in observations:\n",
    "        freq = frequencies.setdefault(item, 0)\n",
    "        frequencies[item] = freq + 1\n",
    "    return frequencies\n",
    "print(countFreq(observ))"
   ]
  },
  {
   "cell_type": "code",
   "execution_count": 24,
   "id": "d598b96c",
   "metadata": {},
   "outputs": [
    {
     "name": "stdout",
     "output_type": "stream",
     "text": [
      "defaultdict(<class 'int'>, {1: 1, 3: 2, 5: 1, 7: 3})\n"
     ]
    }
   ],
   "source": [
    "# or use defaultdict\n",
    "from collections import defaultdict\n",
    "def countFreqDefaultDictUsage(observations):\n",
    "    frequencies = defaultdict(int)\n",
    "    for item in observations:\n",
    "        frequencies[item] = frequencies[item] + 1\n",
    "    return frequencies\n",
    "print(countFreqDefaultDictUsage(observ))"
   ]
  },
  {
   "cell_type": "markdown",
   "id": "b2b980d1",
   "metadata": {},
   "source": [
    "# Set\n",
    "\n",
    "Sets are similar to a matheematical set. They represent a collection of unique things. We can check set cardinality, set membership, union, intersection, etc.\n",
    "\n",
    "Sets are primarily used to maintain a list of unique items"
   ]
  },
  {
   "cell_type": "code",
   "execution_count": 25,
   "id": "fffed163",
   "metadata": {},
   "outputs": [
    {
     "name": "stdout",
     "output_type": "stream",
     "text": [
      "{10, 20, 70, 30}\n"
     ]
    }
   ],
   "source": [
    "dupList = [20, 10, 70, 30, 10, 20]\n",
    "age_set1 = set(dupList)\n",
    "print(age_set1)"
   ]
  },
  {
   "cell_type": "code",
   "execution_count": 26,
   "id": "75c14c79",
   "metadata": {},
   "outputs": [
    {
     "data": {
      "text/plain": [
       "{10, 20, 30, 70}"
      ]
     },
     "execution_count": 26,
     "metadata": {},
     "output_type": "execute_result"
    }
   ],
   "source": [
    "# Set intersection\n",
    "age_set2 = set([20, 10, 70, 30, 10, 20])\n",
    "# find the intersection of age_set1 and age_set2\n",
    "age_set2.intersection(age_set1)"
   ]
  },
  {
   "cell_type": "code",
   "execution_count": 27,
   "id": "4c461ab6",
   "metadata": {},
   "outputs": [
    {
     "name": "stdout",
     "output_type": "stream",
     "text": [
      "1\n",
      "('9 Oct', 'Houston', 75)\n",
      "9 Oct\n",
      "Houston\n",
      "75\n"
     ]
    }
   ],
   "source": [
    "# Writing function but with variable number of arguments\n",
    "\n",
    "# see this example\n",
    "def logInfo(level, *args ):\n",
    "    print(level)\n",
    "    print(args)\n",
    "    for arg in args:\n",
    "        print(arg)\n",
    "        \n",
    "logInfo(1, '9 Oct', 'Houston', 75)"
   ]
  },
  {
   "cell_type": "markdown",
   "id": "ab621ed8",
   "metadata": {},
   "source": [
    "As you can guess after reading the code, a variable number of arguements are packed into a tuple.\n",
    "\n",
    "Using *operator we can do the opposite, i.e., unpack the argument out of a list or tuple."
   ]
  },
  {
   "cell_type": "code",
   "execution_count": 28,
   "id": "3c865db9",
   "metadata": {},
   "outputs": [
    {
     "data": {
      "text/plain": [
       "[4, 5, 6, 7, 8, 9]"
      ]
     },
     "execution_count": 28,
     "metadata": {},
     "output_type": "execute_result"
    }
   ],
   "source": [
    "param = [4, 10]\n",
    "\n",
    "list(range(*param))"
   ]
  },
  {
   "cell_type": "markdown",
   "id": "8617c05a",
   "metadata": {},
   "source": [
    "# Passing Variable Keyword Argument\n",
    "\n",
    "Similarly for passing a variable-length keyword argument use the following syntax:"
   ]
  },
  {
   "cell_type": "code",
   "execution_count": 29,
   "id": "19d000bb",
   "metadata": {},
   "outputs": [
    {
     "name": "stdout",
     "output_type": "stream",
     "text": [
      "1\n",
      "{'Date': '7 Jan', 'City': 'Denver', 'Temperature': 45}\n",
      "key = Date, value = 7 Jan\n",
      "key = City, value = Denver\n",
      "key = Temperature, value = 45\n"
     ]
    }
   ],
   "source": [
    "def logInfoKeyWord(level, **kwargs ):\n",
    "    print(level)\n",
    "    print(kwargs)\n",
    "    for key, val in kwargs.items():\n",
    "        print('key = {}, value = {}'.format(key, val))\n",
    "        \n",
    "logInfoKeyWord(1, Date = '7 Jan', City = 'Denver', Temperature = 45)"
   ]
  },
  {
   "cell_type": "code",
   "execution_count": 30,
   "id": "dea3da49",
   "metadata": {},
   "outputs": [
    {
     "name": "stdout",
     "output_type": "stream",
     "text": [
      "1\n",
      "{'Date': '9 Nov', 'City': 'Houston', 'Temperature': 75}\n",
      "key = Date, value = 9 Nov\n",
      "key = City, value = Houston\n",
      "key = Temperature, value = 75\n"
     ]
    }
   ],
   "source": [
    "# Or, we can use ** operator on a dictionary to get keyword arguments.\n",
    "\n",
    "params = {'Date': '9 Nov', 'City': 'Houston', 'Temperature': 75}\n",
    "logInfoKeyWord(1, **params)"
   ]
  },
  {
   "cell_type": "code",
   "execution_count": null,
   "id": "214337e5",
   "metadata": {},
   "outputs": [],
   "source": [
    "# Before the variable number of arguments, zero or more arguments may occur. If we use both, then args must occur \n",
    "# before *kwargs"
   ]
  }
 ],
 "metadata": {
  "kernelspec": {
   "display_name": "Python 3 (ipykernel)",
   "language": "python",
   "name": "python3"
  },
  "language_info": {
   "codemirror_mode": {
    "name": "ipython",
    "version": 3
   },
   "file_extension": ".py",
   "mimetype": "text/x-python",
   "name": "python",
   "nbconvert_exporter": "python",
   "pygments_lexer": "ipython3",
   "version": "3.8.8"
  }
 },
 "nbformat": 4,
 "nbformat_minor": 5
}
