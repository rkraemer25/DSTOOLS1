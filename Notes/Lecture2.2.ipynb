{
 "cells": [
  {
   "cell_type": "markdown",
   "metadata": {},
   "source": [
    "# Lecture 2.2: Linux Commands for Data Science"
   ]
  },
  {
   "cell_type": "markdown",
   "metadata": {},
   "source": [
    "## Why we want to do data manipulation at command prompt\n",
    "- Most of software system generate well defined logs. We need to parse them to understand ticket raised.\n",
    "- Analyze log files for quick understanding of issue.\n",
    "    -  Need to understand customer impact\n",
    "- Logged to remote serverr and don't have data science tool\n",
    "    - Don't have access to visual analysis tool or spreadsheet\n",
    "- Exploring data set"
   ]
  },
  {
   "cell_type": "markdown",
   "metadata": {},
   "source": [
    "## Basic Command\n",
    "- echo: echo the text\n",
    "- cat: concatenate files and print on the standard\n",
    "    - tac: print in reverse\n",
    "- grep: print lines matching a pattern\n",
    "- cut: select part of a line\n",
    "- tr: Translate, squeeze, and/or delete characters\n",
    "- head: print lines from start of the file\n",
    "- tail: print lines from tail of the file\n",
    "    - one useful option is _-f_: output appended data as the file grows. Use when you want to see content of a log file.\n",
    "    - output the last NUM lines, instead of the last 10; or __use -n +NUM to output starting with line NUM.__\n",
    "- more: paging through text one screenful at a time.\n",
    "- sort: sort lines\n",
    "- uniq: report or omit repeated lines\n",
    "- curl: tool to transfer data from or to a server.\n",
    "    - curl -s for silent mode and output to stdout\n",
    "    - cuul - O (captial O) for saving with same name (same as wget)"
   ]
  },
  {
   "cell_type": "markdown",
   "metadata": {},
   "source": [
    "## Demo at linux command prompt\n",
    "\n",
    "- echo $0 to make sure we have bash shell\n",
    "- echo \"hello allen\"\n",
    "- create a file with as.    Ignore the __> and >>__ redirection operator. Will cover it soon.\n",
    "    - echo \"customer,items,type,quantity\" > customer_history.csv; echo \"Allen, Statistical analysis, book, 2\" >> customer_history.csv; echo \"\" >> customer_history.csv; echo \"allen, Kasa Smart Wi-Fi Plug, electronics, 3\" >> customer_history.csv; echo \"Tim, Unix Shell Programming, Book, 3\" >> customer_history.csv; echo \"\" >> customer_history.csv; echo \"Jhon, Python for Data Analysis, Book, 1\" >> customer_history.csv\n",
    "- cat customer_history.csv\n",
    "- tac customer_history.csv\n",
    "- tail -n 2 customer_history.csv (use +2 to start from second line)\n",
    "    - touch test.log and _tail -f test.log_ In another terminal type echo \"test accuracy 40%, val 30\" >> test.log. It should update first terminal output\n",
    "- cut -d, -f1 customer_history.csv (*Note that there are empty lines too. Will show later how to get rid of blank lines using regular expression*) \n",
    "- cut -d, -f1 customer_history.csv| tr a A (or tr [a-z] [A-Z])\n"
   ]
  },
  {
   "cell_type": "markdown",
   "metadata": {},
   "source": [
    "## Data Science Commands Sorting\n",
    "\n",
    "- cut -d, -f1 customer_history.csv | tr [a-z] [A-Z]| sort\n",
    "- cut -d, -f1 customer_history.csv | tr [a-z] [A-Z]| sort | uniq -c\n",
    "    - Note sort is required before uniq\n",
    "    - -c is for counts\n",
    "- cut -d, -f1 customer_history.csv | tr [a-z] [A-Z]| sort | uniq -c | sort -n\n",
    "    - -n is for sorting numerically\n",
    "\n",
    "- You should use \"r\" in _search_ command if you want to reverse the search order"
   ]
  },
  {
   "cell_type": "markdown",
   "metadata": {},
   "source": [
    "## Linux standard I/O streams, redirection, tee and pipe\n",
    "\n",
    "### Standard I/O streams\n",
    "1. standard input (stdin, 0)\n",
    "1. standard output (stdout, 1)\n",
    "1. standard error (stderr, 2)\n",
    "\n",
    "Generally standard input is given via typing in terminal and standard output and error is displayed as text in the terminal emulator. Whenever a program runs these three files are open by default. \n",
    "\n",
    "### Demo\n",
    "- cat -(standaard input, output interaction)\n",
    "- echo \"data science\" (standard out)\n",
    "- cat any_non_existent_file (error message standard error)"
   ]
  },
  {
   "cell_type": "code",
   "execution_count": 1,
   "metadata": {},
   "outputs": [],
   "source": [
    "! ls > dir_content.txt"
   ]
  },
  {
   "cell_type": "code",
   "execution_count": 2,
   "metadata": {},
   "outputs": [
    {
     "name": "stdout",
     "output_type": "stream",
     "text": [
      "Hwk5\r\n",
      "Hwk6\r\n",
      "LauraContrerasHW1-EDITED.ipynb\r\n",
      "Lecture1.2.ipynb\r\n",
      "Lecture2.2.ipynb\r\n",
      "Lecture2.3.ipynb\r\n",
      "README.md\r\n",
      "Teresa_Vail_hw1.ipynb\r\n",
      "customer_history.csv\r\n",
      "dir_content.txt\r\n",
      "dst1_env\r\n",
      "hw2.ipynb\r\n",
      "hw4_twitter_api.ipynb\r\n",
      "hw7_movie_analysis_using_pandas.ipynb\r\n",
      "hw8_feature_engineering.ipynb\r\n",
      "requirements.txt\r\n"
     ]
    }
   ],
   "source": [
    "! cat dir_content.txt"
   ]
  },
  {
   "cell_type": "markdown",
   "metadata": {},
   "source": [
    "## Redirection\n",
    "\n",
    "Linux command takes input and produces some output. By using redirection one can changes standard I/O of a program.\n",
    "\n",
    "### overwriting direction\n",
    "\n",
    "- < filename (redirect standard input from a filename)\n",
    "- > filename (redirect standard output to a file)\n",
    "- 2> filename (redirect standard error to filename)\n",
    "- &> filename # Redirect both stdout and stderr to file \"filename.\"\n",
    "\n",
    "### appending redirection\n",
    "- << (standard input)\n",
    "- >> (standard output)\n",
    "- 2>> (standard error)"
   ]
  },
  {
   "cell_type": "markdown",
   "metadata": {},
   "source": [
    "## demo\n",
    "\n",
    "- ls > dir_context.txt then cat dir_content.txt\n",
    "- cat dir_context.txt >> dir_content.txt\n",
    "- ls non_extent file 2> error.log, cat error.log\n",
    "    - But why to redirect error? Sometimes large amount of error clutter screen\n",
    "- ls valid_dir invalid_dir > run.log 2>&1"
   ]
  },
  {
   "cell_type": "markdown",
   "metadata": {},
   "source": [
    "## pipe(|)\n",
    "\n",
    "it is a very useful feature in Linux. Using pipe one can connect output of program to input of another program\n",
    "\n",
    "- cat customer_history.csv | head -n 2"
   ]
  },
  {
   "cell_type": "markdown",
   "metadata": {},
   "source": [
    "## tee\n",
    "\n",
    "read from standard input and write to standard output and files.\n",
    "\n",
    "It is useful when you want to save output to a file and see it in the standard output too. (no tail -f file_name.log). Used a lot when training a machine learning model.\n",
    "\n",
    "-ping www.du.edu | tee ping_log.txt(any number of file name)\n",
    "\n",
    "    - + use tee -a to append to existing file. File is created if it doesn't exist."
   ]
  }
 ],
 "metadata": {
  "kernelspec": {
   "display_name": "Python 3 (ipykernel)",
   "language": "python",
   "name": "python3"
  },
  "language_info": {
   "codemirror_mode": {
    "name": "ipython",
    "version": 3
   },
   "file_extension": ".py",
   "mimetype": "text/x-python",
   "name": "python",
   "nbconvert_exporter": "python",
   "pygments_lexer": "ipython3",
   "version": "3.8.8"
  },
  "vscode": {
   "interpreter": {
    "hash": "94a612ca3ab8f7916b587b59f3240287289e370465bbcfbcbd0b0bdda4e214bb"
   }
  }
 },
 "nbformat": 4,
 "nbformat_minor": 2
}
