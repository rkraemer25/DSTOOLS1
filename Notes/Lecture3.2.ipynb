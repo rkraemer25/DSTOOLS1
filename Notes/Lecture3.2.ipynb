{
 "cells": [
  {
   "cell_type": "markdown",
   "id": "34c584fc",
   "metadata": {},
   "source": [
    "# Lecture 3.2 Passing Arguments to Shell Script, Performing Arithmetic Operations, and Debugging Shell Scripts\n",
    "\n",
    "## Positional arguments\n",
    "\n",
    "Can we pass first_name and last_name as argument to the script. yes, they are called poitional paramters and accessed via 1,\n",
    "2, .. etc.\n",
    "\n",
    "Change hello.sh script as\n",
    "\n",
    "__!/bin/bash__\n",
    "\n",
    "(#) first positional\n",
    "\n",
    "first_name=$1\n",
    "\n",
    "(#) second positional parameter\n",
    "\n",
    "last_name=$2\n",
    "\n",
    "echo \"Hello, $first_name, $last_name\"\n",
    "\n",
    "echo \"Program name is $0\"\n",
    "\n",
    "echo \"Total parameters $#\"\n",
    "\n",
    "echo \"Current calender is\" cal\n",
    "\n",
    "#### Run as ./hello.sh firstname lastname\n",
    "\n",
    "- This worked better for me: bash hello.sh firstname lastname\n",
    "\n",
    "- One can use __set command__ to set position parameters too. "
   ]
  },
  {
   "cell_type": "code",
   "execution_count": 1,
   "id": "de8a380a",
   "metadata": {},
   "outputs": [
    {
     "name": "stdout",
     "output_type": "stream",
     "text": [
      "space time\n",
      "2\n"
     ]
    }
   ],
   "source": [
    "%%bash\n",
    "set space time\n",
    "echo $1 $2\n",
    "echo $#"
   ]
  },
  {
   "cell_type": "code",
   "execution_count": 2,
   "id": "5371f98f",
   "metadata": {},
   "outputs": [
    {
     "name": "stdout",
     "output_type": "stream",
     "text": [
      "12\n"
     ]
    }
   ],
   "source": [
    "# 3.2.2 In a new Jupyter cell, type the following code. What is the value of $1?\n",
    "%%bash\n",
    "set 12 56 222\n",
    "echo $1"
   ]
  },
  {
   "cell_type": "markdown",
   "id": "eb303973",
   "metadata": {},
   "source": [
    "## Command Substitution\n",
    "\n",
    "Command substitution allows the output of a command to replace the command itself.\n",
    "- Use __dollarsign(command)__ for command subsitution\n",
    "- or __`command`__  (use back ticks, which is found right next to \"1\" on the keyboard)"
   ]
  },
  {
   "cell_type": "code",
   "execution_count": 6,
   "id": "ef1ef1e2",
   "metadata": {},
   "outputs": [
    {
     "name": "stdout",
     "output_type": "stream",
     "text": [
      " Mon Jul  4 18:24:12 MDT 2022 \n"
     ]
    }
   ],
   "source": [
    "%%bash\n",
    "echo \" `date` \""
   ]
  },
  {
   "cell_type": "markdown",
   "id": "78a62b84",
   "metadata": {},
   "source": [
    "## Arithmatic operations\n",
    "\n",
    "- enclose expression inside (())\n",
    "- or Use expr"
   ]
  },
  {
   "cell_type": "code",
   "execution_count": 3,
   "id": "df1f08f8",
   "metadata": {},
   "outputs": [
    {
     "name": "stdout",
     "output_type": "stream",
     "text": [
      "7\n"
     ]
    }
   ],
   "source": [
    "%%bash\n",
    "echo $(( 2 + 5 ))"
   ]
  },
  {
   "cell_type": "code",
   "execution_count": 4,
   "id": "8b023bb0",
   "metadata": {},
   "outputs": [
    {
     "name": "stdout",
     "output_type": "stream",
     "text": [
      "9\n"
     ]
    }
   ],
   "source": [
    "%%bash\n",
    "expr 2 + 7"
   ]
  },
  {
   "cell_type": "markdown",
   "id": "c2b5afa3",
   "metadata": {},
   "source": [
    "bc command for float point arithmetics"
   ]
  },
  {
   "cell_type": "code",
   "execution_count": 7,
   "id": "1aa0a245",
   "metadata": {},
   "outputs": [
    {
     "name": "stdout",
     "output_type": "stream",
     "text": [
      "4.5\n"
     ]
    }
   ],
   "source": [
    "%%bash\n",
    "echo \"2.5 + (10/5)\" |bc"
   ]
  },
  {
   "cell_type": "markdown",
   "id": "057487e4",
   "metadata": {},
   "source": [
    "Remainder operator for integer arithmetic: %"
   ]
  },
  {
   "cell_type": "markdown",
   "id": "4508042e",
   "metadata": {},
   "source": [
    "## Debugging bash scripts\n",
    "\n",
    "Run bash script with bash -x /script.sh\n",
    "\n",
    "### Demo\n",
    "\n",
    "- create a file using __cat > test_file.txt__.  Enter couple of lines and close file with ctr-D\n",
    "- create a bash script called count word.sh\n",
    "    - In a while loop read file and print line number, number of words and the line\n",
    "- chomod u+x count_word.sh\n",
    "- Debug using __-x__"
   ]
  }
 ],
 "metadata": {
  "kernelspec": {
   "display_name": "Python 3 (ipykernel)",
   "language": "python",
   "name": "python3"
  },
  "language_info": {
   "codemirror_mode": {
    "name": "ipython",
    "version": 3
   },
   "file_extension": ".py",
   "mimetype": "text/x-python",
   "name": "python",
   "nbconvert_exporter": "python",
   "pygments_lexer": "ipython3",
   "version": "3.8.8"
  }
 },
 "nbformat": 4,
 "nbformat_minor": 5
}
