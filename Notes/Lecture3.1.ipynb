{
 "cells": [
  {
   "cell_type": "markdown",
   "id": "1b98d13e",
   "metadata": {},
   "source": [
    "## Week 3 - Data Collection: REST API and Web Scrapping\n",
    "\n",
    "# Lecture 3.1 Bash Scripting\n",
    "\n",
    "## Bash and script\n",
    "\n",
    "### What is shell?\n",
    "\n",
    "A program which takes input(command) from keyboard and passes them to the operating system(Linux). Most Linux system have Bash(Bourne Again SHell, an enhanced version of the original Unix shell program, sh) shell).\n",
    "\n",
    "Linux terminal emulator provides interface between keyboard and shell\n",
    "\n",
    "### What is shell script?\n",
    "\n",
    "collection of commands\n",
    "\n",
    "### What shelll are using? "
   ]
  },
  {
   "cell_type": "code",
   "execution_count": 2,
   "id": "337f8c1c",
   "metadata": {},
   "outputs": [
    {
     "name": "stdout",
     "output_type": "stream",
     "text": [
      "/bin/bash\n"
     ]
    }
   ],
   "source": [
    "%%bash\n",
    "echo $SHELL"
   ]
  },
  {
   "cell_type": "markdown",
   "id": "5a9e8ac0",
   "metadata": {},
   "source": [
    "### A sample shell scripts"
   ]
  },
  {
   "cell_type": "code",
   "execution_count": 4,
   "id": "dd96a22d",
   "metadata": {},
   "outputs": [
    {
     "name": "stdout",
     "output_type": "stream",
     "text": [
      "/bin/bash\r\n"
     ]
    }
   ],
   "source": [
    "!which bash"
   ]
  },
  {
   "cell_type": "code",
   "execution_count": 3,
   "id": "62fa8c4a",
   "metadata": {},
   "outputs": [
    {
     "name": "stdout",
     "output_type": "stream",
     "text": [
      "Hello,Pooran, Negi\n",
      "Current date and time is\n",
      "Mon Jul  4 16:22:48 MDT 2022\n"
     ]
    }
   ],
   "source": [
    "%%bash\n",
    "#!/bin/bash shell to use to run this file\n",
    "first_name=\"Pooran\"\n",
    "last_name='Negi'\n",
    "echo \"Hello,$first_name, $last_name\"\n",
    "echo \"Current date and time is\"\n",
    "date"
   ]
  },
  {
   "cell_type": "markdown",
   "id": "b9cc27c8",
   "metadata": {},
   "source": [
    "### How to put above command in a file and run it (demo)\n",
    "\n",
    "- create a file called hello.sh containing above commands\n",
    "- see the file permission using ls -l\n",
    "- add execute permission using __chmod u+x hello.sh.__ Run the command as __./hello.sh\n",
    " - or type bash hello.sh\n",
    " \n",
    "### Bash variable \n",
    "- varibles are defined using = and accessed using a dollar sign\n",
    "- For numerical comparison use __-lt(less than), -le(less or equal), -gt etc__\n",
    "- For string comparison use __=, !=, <, >__"
   ]
  },
  {
   "cell_type": "code",
   "execution_count": 5,
   "id": "96ef75d9",
   "metadata": {},
   "outputs": [
    {
     "name": "stdout",
     "output_type": "stream",
     "text": [
      "0\n"
     ]
    }
   ],
   "source": [
    "%%bash\n",
    "a=3\n",
    "b=2\n",
    "# keep space after [ and before ]\n",
    "[ $a -gt $b ]\n",
    "#  $? gives status of last command\n",
    "# here 0 mean comparision was successful\n",
    "echo $?"
   ]
  },
  {
   "cell_type": "markdown",
   "id": "628f042e",
   "metadata": {},
   "source": [
    "### Bash conditional statement\n",
    "\n",
    "if TEST\n",
    "\n",
    "then\n",
    "\n",
    "COMMANDS;\n",
    "\n",
    "elif MORE-TEST\n",
    "\n",
    "then\n",
    "\n",
    "MORE COMMANDS;\n",
    "\n",
    "else\n",
    "\n",
    "DEFAULT-COMMANDS;\n",
    "\n",
    "fi"
   ]
  },
  {
   "cell_type": "code",
   "execution_count": 7,
   "id": "2c883b1e",
   "metadata": {},
   "outputs": [
    {
     "name": "stdout",
     "output_type": "stream",
     "text": [
      "2 is less than 3\n"
     ]
    }
   ],
   "source": [
    "%%bash\n",
    "# write if condition to print number_a is less number_b else print greater than \n",
    "number_a=2\n",
    "number_b=3\n",
    "\n",
    "if [ $number_a -le $number_b ]\n",
    "then\n",
    "echo $number_a \"is less than\" $number_b\n",
    "else\n",
    "echo \"not true\"\n",
    "\n",
    "fi"
   ]
  },
  {
   "cell_type": "markdown",
   "id": "2780067e",
   "metadata": {},
   "source": [
    "### For Loops\n",
    "\n",
    "Useful when tunning a machine learning model for different parameters"
   ]
  },
  {
   "cell_type": "code",
   "execution_count": 8,
   "id": "79033917",
   "metadata": {},
   "outputs": [
    {
     "name": "stdout",
     "output_type": "stream",
     "text": [
      "current optimization alpha is 1\n",
      "current optimization alpha is 2\n",
      "current optimization alpha is 3\n",
      "current optimization alpha is 4\n"
     ]
    }
   ],
   "source": [
    "%%bash\n",
    "for alpha in 1 2 3 4\n",
    "do echo \"current optimization alpha is $alpha\";\n",
    "# Following line will be not be commented in real training of a model\n",
    "#python3  model.py $alpha\n",
    "done"
   ]
  },
  {
   "cell_type": "markdown",
   "id": "5c487336",
   "metadata": {},
   "source": [
    "### Reading and resources\n",
    "\n",
    "- Linux Documentation project\n",
    "- until loop"
   ]
  }
 ],
 "metadata": {
  "kernelspec": {
   "display_name": "Python 3 (ipykernel)",
   "language": "python",
   "name": "python3"
  },
  "language_info": {
   "codemirror_mode": {
    "name": "ipython",
    "version": 3
   },
   "file_extension": ".py",
   "mimetype": "text/x-python",
   "name": "python",
   "nbconvert_exporter": "python",
   "pygments_lexer": "ipython3",
   "version": "3.8.8"
  }
 },
 "nbformat": 4,
 "nbformat_minor": 5
}
