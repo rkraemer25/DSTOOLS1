{
 "cells": [
  {
   "cell_type": "markdown",
   "metadata": {},
   "source": [
    "# Lecture 2.5 Demo on Real-World Data \n",
    "\n",
    "## 2.5.1 Curl Commands\n",
    "- Command to transfer data from remote machine\n",
    "- Understand many protocols\n",
    "    - FTP, FTPS, GOPHER, HTTP, HTTPS, IMAP, IMAPS, LDAP, LDAPS, POP2, POP25, RTMP, RTSP, SCP, SFTP, SMB, SMBS, SMTP, SMTPS, TELNET and TFTP\n",
    "\n",
    "### Demo of Downloading file\n",
    "Let's download some file from this machine learning datasets repository\n",
    "https://archive.ics.uci.edu/ml/machine-learning-databases/iris/"
   ]
  },
  {
   "cell_type": "code",
   "execution_count": 1,
   "metadata": {},
   "outputs": [
    {
     "name": "stdout",
     "output_type": "stream",
     "text": [
      "  % Total    % Received % Xferd  Average Speed   Time    Time     Time  Current\n",
      "                                 Dload  Upload   Total   Spent    Left  Speed\n",
      "100  4551  100  4551    0     0  14775      0 --:--:-- --:--:-- --:--:-- 14775\n"
     ]
    }
   ],
   "source": [
    "! curl -O https://archive.ics.uci.edu/ml/machine-learning-databases/iris/iris.data"
   ]
  },
  {
   "cell_type": "code",
   "execution_count": 2,
   "metadata": {},
   "outputs": [
    {
     "name": "stdout",
     "output_type": "stream",
     "text": [
      "5.1,3.5,1.4,0.2,Iris-setosa\r\n",
      "4.9,3.0,1.4,0.2,Iris-setosa\r\n",
      "4.7,3.2,1.3,0.2,Iris-setosa\r\n",
      "4.6,3.1,1.5,0.2,Iris-setosa\r\n"
     ]
    }
   ],
   "source": [
    "! head -n 4 iris.data"
   ]
  },
  {
   "cell_type": "markdown",
   "metadata": {},
   "source": [
    "### demo on gutenburg text\n",
    "- Let's go to https://www.gutenberg.org/. Find a story and list most frequently used words.\n",
    "- use curl url tr to lower case, grep-oE \"\\w+\", sort, uniq -c, sort -nr and head"
   ]
  },
  {
   "cell_type": "code",
   "execution_count": 6,
   "metadata": {},
   "outputs": [
    {
     "name": "stdout",
     "output_type": "stream",
     "text": [
      "  % Total    % Received % Xferd  Average Speed   Time    Time     Time  Current\n",
      "                                 Dload  Upload   Total   Spent    Left  Speed\n",
      "100  628k  100  628k    0     0   649k      0 --:--:-- --:--:-- --:--:--  649k\n",
      "7116 the\n",
      "3879 and\n",
      "3792 of\n",
      "2713 to\n",
      "2697 a\n",
      "sort: Broken pipe\n"
     ]
    }
   ],
   "source": [
    "# Let's work on above commands\n",
    "\n",
    "! curl https://www.gutenberg.org/cache/epub/68445/pg68445.txt | grep -oE \"\\w+\" | sort | uniq -c | sort -nr | head -n 5"
   ]
  },
  {
   "cell_type": "code",
   "execution_count": null,
   "metadata": {},
   "outputs": [],
   "source": []
  }
 ],
 "metadata": {
  "kernelspec": {
   "display_name": "Python 3 (ipykernel)",
   "language": "python",
   "name": "python3"
  },
  "language_info": {
   "codemirror_mode": {
    "name": "ipython",
    "version": 3
   },
   "file_extension": ".py",
   "mimetype": "text/x-python",
   "name": "python",
   "nbconvert_exporter": "python",
   "pygments_lexer": "ipython3",
   "version": "3.8.8"
  },
  "vscode": {
   "interpreter": {
    "hash": "94a612ca3ab8f7916b587b59f3240287289e370465bbcfbcbd0b0bdda4e214bb"
   }
  }
 },
 "nbformat": 4,
 "nbformat_minor": 2
}
