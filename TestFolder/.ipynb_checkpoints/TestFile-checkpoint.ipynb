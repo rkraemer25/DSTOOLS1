{
 "cells": [
  {
   "cell_type": "markdown",
   "id": "2f2152d1",
   "metadata": {},
   "source": [
    "# Test File\n",
    "* This was created as a test for git "
   ]
  },
  {
   "cell_type": "code",
   "execution_count": 1,
   "id": "8f35b8a6",
   "metadata": {},
   "outputs": [
    {
     "name": "stdout",
     "output_type": "stream",
     "text": [
      "Small\n",
      "Loop\n"
     ]
    }
   ],
   "source": [
    "small = [\"Small\", \"Loop\"]\n",
    "for item in small: \n",
    "    print(item)"
   ]
  },
  {
   "cell_type": "code",
   "execution_count": null,
   "id": "2a80ebea",
   "metadata": {},
   "outputs": [],
   "source": []
  }
 ],
 "metadata": {
  "kernelspec": {
   "display_name": "Python 3 (ipykernel)",
   "language": "python",
   "name": "python3"
  },
  "language_info": {
   "codemirror_mode": {
    "name": "ipython",
    "version": 3
   },
   "file_extension": ".py",
   "mimetype": "text/x-python",
   "name": "python",
   "nbconvert_exporter": "python",
   "pygments_lexer": "ipython3",
   "version": "3.10.0"
  }
 },
 "nbformat": 4,
 "nbformat_minor": 5
}
